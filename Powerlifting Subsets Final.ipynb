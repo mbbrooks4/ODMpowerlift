{
 "cells": [
  {
   "cell_type": "code",
   "execution_count": 1,
   "metadata": {},
   "outputs": [],
   "source": [
    "import pandas as pd"
   ]
  },
  {
   "cell_type": "code",
   "execution_count": 2,
   "metadata": {},
   "outputs": [],
   "source": [
    "data = pd.read_csv(\"Downloads/openpowerlifting.csv\", engine='python')"
   ]
  },
  {
   "cell_type": "code",
   "execution_count": 5,
   "metadata": {},
   "outputs": [],
   "source": [
    "subset_raw = data[['Name', 'Sex', 'Event', 'Age', 'Best3SquatKg', 'Best3BenchKg', 'Best3DeadliftKg', 'AgeClass', 'Federation', 'Date', 'MeetCountry', 'MeetState', 'MeetName']]"
   ]
  },
  {
   "cell_type": "code",
   "execution_count": 6,
   "metadata": {},
   "outputs": [
    {
     "name": "stderr",
     "output_type": "stream",
     "text": [
      "C:\\Users\\M B Brooks\\Anaconda3\\lib\\site-packages\\ipykernel_launcher.py:1: SettingWithCopyWarning: \n",
      "A value is trying to be set on a copy of a slice from a DataFrame.\n",
      "Try using .loc[row_indexer,col_indexer] = value instead\n",
      "\n",
      "See the caveats in the documentation: http://pandas.pydata.org/pandas-docs/stable/indexing.html#indexing-view-versus-copy\n",
      "  \"\"\"Entry point for launching an IPython kernel.\n"
     ]
    }
   ],
   "source": [
    "subset_raw['Date'] = pd.to_datetime(subset_raw['Date']).dt.year"
   ]
  },
  {
   "cell_type": "code",
   "execution_count": 7,
   "metadata": {},
   "outputs": [],
   "source": [
    "subset_SBD_USA = subset_raw[(subset_raw['Event']=='SBD')&(subset_raw['MeetCountry']=='USA')] \n",
    "\n",
    "subset_male2016 = subset_SBD_USA[(subset_SBD_USA['Sex']=='M')&(subset_SBD_USA['Date']==2016)] \n",
    "subset_male2017 = subset_SBD_USA[(subset_SBD_USA['Sex']=='M')&(subset_SBD_USA['Date']==2017)] \n",
    "subset_male2018 = subset_SBD_USA[(subset_SBD_USA['Sex']=='M')&(subset_SBD_USA['Date']==2018)] \n",
    "\n",
    "subset_female2016 = subset_SBD_USA[(subset_SBD_USA['Sex']=='F')&(subset_SBD_USA['Date']==2016)] \n",
    "subset_female2017 = subset_SBD_USA[(subset_SBD_USA['Sex']=='F')&(subset_SBD_USA['Date']==2017)] \n",
    "subset_female2018 = subset_SBD_USA[(subset_SBD_USA['Sex']=='F')&(subset_SBD_USA['Date']==2018)] "
   ]
  },
  {
   "cell_type": "code",
   "execution_count": 8,
   "metadata": {},
   "outputs": [
    {
     "data": {
      "text/plain": [
       "(58843, 13)"
      ]
     },
     "execution_count": 8,
     "metadata": {},
     "output_type": "execute_result"
    }
   ],
   "source": [
    "subset_male2016.shape "
   ]
  },
  {
   "cell_type": "code",
   "execution_count": 9,
   "metadata": {},
   "outputs": [],
   "source": [
    "subset_male2016.to_csv('subset_male2016.csv')"
   ]
  },
  {
   "cell_type": "code",
   "execution_count": 10,
   "metadata": {},
   "outputs": [],
   "source": [
    "subset_male2017.to_csv('subset_male2017.csv')"
   ]
  },
  {
   "cell_type": "code",
   "execution_count": 11,
   "metadata": {},
   "outputs": [],
   "source": [
    "subset_male2018.to_csv('subset_male2018.csv')"
   ]
  },
  {
   "cell_type": "code",
   "execution_count": 12,
   "metadata": {},
   "outputs": [],
   "source": [
    "subset_female2016.to_csv('subset_female2016.csv')"
   ]
  },
  {
   "cell_type": "code",
   "execution_count": 13,
   "metadata": {},
   "outputs": [],
   "source": [
    "subset_female2017.to_csv('subset_female2017.csv')"
   ]
  },
  {
   "cell_type": "code",
   "execution_count": 14,
   "metadata": {},
   "outputs": [],
   "source": [
    "subset_female2018.to_csv('subset_female2018.csv')"
   ]
  },
  {
   "cell_type": "code",
   "execution_count": null,
   "metadata": {},
   "outputs": [],
   "source": []
  }
 ],
 "metadata": {
  "kernelspec": {
   "display_name": "Python 3",
   "language": "python",
   "name": "python3"
  },
  "language_info": {
   "codemirror_mode": {
    "name": "ipython",
    "version": 3
   },
   "file_extension": ".py",
   "mimetype": "text/x-python",
   "name": "python",
   "nbconvert_exporter": "python",
   "pygments_lexer": "ipython3",
   "version": "3.6.5"
  }
 },
 "nbformat": 4,
 "nbformat_minor": 2
}
